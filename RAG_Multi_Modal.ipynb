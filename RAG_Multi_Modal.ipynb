{
  "nbformat": 4,
  "nbformat_minor": 0,
  "metadata": {
    "colab": {
      "provenance": [],
      "authorship_tag": "ABX9TyOnVffW6K4qSZhSCSbB/+gW",
      "include_colab_link": true
    },
    "kernelspec": {
      "name": "python3",
      "display_name": "Python 3"
    },
    "language_info": {
      "name": "python"
    }
  },
  "cells": [
    {
      "cell_type": "markdown",
      "metadata": {
        "id": "view-in-github",
        "colab_type": "text"
      },
      "source": [
        "<a href=\"https://colab.research.google.com/github/aswinaus/RAG_Multimodal/blob/main/RAG_Multi_Modal.ipynb\" target=\"_parent\"><img src=\"https://colab.research.google.com/assets/colab-badge.svg\" alt=\"Open In Colab\"/></a>"
      ]
    },
    {
      "cell_type": "code",
      "execution_count": null,
      "metadata": {
        "id": "irvHaliMRhp8"
      },
      "outputs": [],
      "source": [
        "!pip install unstructured --quiet"
      ]
    },
    {
      "cell_type": "code",
      "source": [
        "!pip install Chroma --quiet"
      ],
      "metadata": {
        "id": "l62UHemDhiDS"
      },
      "execution_count": null,
      "outputs": []
    },
    {
      "cell_type": "code",
      "source": [
        "!pip install langchain_chroma --quiet"
      ],
      "metadata": {
        "id": "6utfyB5nl3Ka"
      },
      "execution_count": null,
      "outputs": []
    },
    {
      "cell_type": "code",
      "source": [
        "!pip install pdfminer.six --quiet"
      ],
      "metadata": {
        "id": "xi9OhpvckFMj"
      },
      "execution_count": null,
      "outputs": []
    },
    {
      "cell_type": "code",
      "source": [
        "!pip install \"unstructured[all-docs]\" --quiet"
      ],
      "metadata": {
        "id": "lcwN4aEoldYV"
      },
      "execution_count": null,
      "outputs": []
    },
    {
      "cell_type": "code",
      "source": [
        "!pip install langchain_community --quiet"
      ],
      "metadata": {
        "id": "gUAaDgCpnKIv"
      },
      "execution_count": null,
      "outputs": []
    },
    {
      "cell_type": "code",
      "source": [
        "import os\n",
        "import io\n",
        "import re\n",
        "import uuid\n",
        "import base64\n",
        "import shutil\n",
        "import requests\n",
        "from tqdm import tqdm\n",
        "from PIL import Image\n",
        "import matplotlib.pyplot as plt\n",
        "from IPython.display import HTML, display\n",
        "from unstructured.partition.pdf import partition_pdf\n",
        "from langchain_core.documents import Document\n",
        "from langchain_text_splitters import CharacterTextSplitter\n",
        "from langchain.storage import InMemoryStore\n",
        "from langchain_chroma import Chroma\n",
        "from langchain.chains.llm import LLMChain, PromptTemplate\n",
        "from langchain_core.messages import HumanMessage, SystemMessage\n",
        "from langchain_core.prompts.chat import (ChatPromptTemplate, HumanMessagePromptTemplate, SystemMessagePromptTemplate)\n",
        "from langchain_core.output_parsers import StrOutputParser\n",
        "from langchain_core.runnables import RunnableLambda, RunnablePassthrough\n",
        "from langchain.retrievers.multi_vector import MultiVectorRetriever\n",
        "from openai import OpenAI as OpenAI_vLLM\n",
        "from langchain_community.llms.vllm import VLLMOpenAI\n",
        "from langchain.embeddings import HuggingFaceEmbeddings\n",
        "embeddings = HuggingFaceEmbeddings(model_name='BAAI/bge-large-en')"
      ],
      "metadata": {
        "id": "3HJbMoCGhV_q"
      },
      "execution_count": null,
      "outputs": []
    },
    {
      "cell_type": "code",
      "source": [
        "import nest_asyncio\n",
        "nest_asyncio.apply()"
      ],
      "metadata": {
        "id": "RMlyJbqQnmPS"
      },
      "execution_count": null,
      "outputs": []
    },
    {
      "cell_type": "code",
      "source": [
        "from google.colab import drive\n",
        "drive.mount('/content/drive')"
      ],
      "metadata": {
        "id": "H6IoJrt9npRC"
      },
      "execution_count": null,
      "outputs": []
    },
    {
      "cell_type": "code",
      "source": [
        "# Download Data\n",
        "data_dir = '/content/drive/MyDrive' # Input a data dir path from your mounted Google Drive"
      ],
      "metadata": {
        "id": "6s0FSLcsnw3P"
      },
      "execution_count": null,
      "outputs": []
    },
    {
      "cell_type": "code",
      "source": [
        "!pip install poppler-utils --quiet\n",
        "!apt-get install poppler-utils\n"
      ],
      "metadata": {
        "id": "HH6fQr7RF1DF"
      },
      "execution_count": null,
      "outputs": []
    },
    {
      "cell_type": "code",
      "source": [
        "# Extract elements from PDF\n",
        "def extract_pdf_elements(path, fname):\n",
        "    \"\"\"\n",
        "    Extract images, tables, and chunk text from a PDF file.\n",
        "    path: File path, which is used to dump images (.jpg)\n",
        "    fname: File name\n",
        "    \"\"\"\n",
        "    return partition_pdf(\n",
        "        filename=path + fname,\n",
        "        #strategy='hi_res',\n",
        "        extract_text_and_images=False,\n",
        "        #extract_images_in_pdf=False,\n",
        "        extract_tables=False,\n",
        "        infer_table_structure=False,\n",
        "        chunking_strategy=\"by_title\",\n",
        "        max_characters=4000,\n",
        "        new_after_n_chars=3800,\n",
        "        combine_text_under_n_chars=2000,\n",
        "        image_output_dir_path=path,\n",
        "    )\n",
        "\n",
        "# Categorize elements by type\n",
        "def categorize_elements(raw_pdf_elements):\n",
        "    \"\"\"\n",
        "    Categorize extracted elements from a PDF into tables and texts.\n",
        "    raw_pdf_elements: List of unstructured.documents.elements\n",
        "    \"\"\"\n",
        "    tables = []\n",
        "    texts = []\n",
        "    for element in raw_pdf_elements:\n",
        "        if \"unstructured.documents.elements.Table\" in str(type(element)):\n",
        "            tables.append(str(element))\n",
        "        elif \"unstructured.documents.elements.CompositeElement\" in str(type(element)):\n",
        "            texts.append(str(element))\n",
        "    return texts, tables"
      ],
      "metadata": {
        "id": "qMRlmSczqZS-"
      },
      "execution_count": null,
      "outputs": []
    },
    {
      "cell_type": "code",
      "source": [
        "!pip install pymupdf --quiet\n",
        "import pymupdf"
      ],
      "metadata": {
        "id": "uBUk13xT1IXJ"
      },
      "execution_count": null,
      "outputs": []
    },
    {
      "cell_type": "code",
      "source": [
        "folder_path = f\"{data_dir}/RAG/data/Form_Data/\"\n",
        "file_name = \"12559_Aswin_Bhaskaran.pdf\"\n",
        "doc=pymupdf.open(folder_path+file_name)\n",
        "for page in doc:\n",
        "    text=page.get_text()\n",
        "    print(text)"
      ],
      "metadata": {
        "id": "de8RAUoJ1bpn"
      },
      "execution_count": null,
      "outputs": []
    },
    {
      "cell_type": "code",
      "source": [
        "!pip install unstructured_pytesseract --quiet\n",
        "!pip install pytesseract --quiet\n",
        "!pip install pdf2image --quiet\n",
        "!pip install tiktoken\n",
        "import pytesseract\n",
        "pytesseract.pytesseract.tesseract_cmd = \"/usr/local/lib/python3.10/dist-packages/tesseract\""
      ],
      "metadata": {
        "id": "33bNiH2n37ju"
      },
      "execution_count": null,
      "outputs": []
    },
    {
      "cell_type": "code",
      "source": [
        "# File path\n",
        "folder_path = f\"{data_dir}/RAG/data/Form990/\"\n",
        "file_name = \"Form990_Kingsford_High_School.pdf\"\n",
        "print(folder_path+file_name)\n",
        "\n",
        "# Get elements\n",
        "raw_pdf_elements = extract_pdf_elements(folder_path, file_name)\n",
        "\n",
        "# Get text, tables\n",
        "texts, tables = categorize_elements(raw_pdf_elements)\n",
        "\n",
        "# Enforce a specific token size for texts\n",
        "text_splitter = CharacterTextSplitter.from_tiktoken_encoder(\n",
        "    chunk_size = 1000, chunk_overlap = 0\n",
        ")\n",
        "joined_texts = \" \".join(texts)\n",
        "texts_token = text_splitter.split_text(joined_texts)\n",
        "print(texts)\n",
        "print(\"No of Textual Chunks:\", len(texts))\n",
        "print(\"No of Table Elements:\", len(tables))\n",
        "print(\"No of Text Chunks after Tokenization:\", len(texts_token))\n"
      ],
      "metadata": {
        "id": "Oq-Iszdgp-NB"
      },
      "execution_count": null,
      "outputs": []
    }
  ]
}