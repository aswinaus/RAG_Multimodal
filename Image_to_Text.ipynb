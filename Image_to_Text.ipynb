{
  "nbformat": 4,
  "nbformat_minor": 0,
  "metadata": {
    "colab": {
      "provenance": [],
      "authorship_tag": "ABX9TyOKrZS8wqPFL66oXDPPyoRz",
      "include_colab_link": true
    },
    "kernelspec": {
      "name": "python3",
      "display_name": "Python 3"
    },
    "language_info": {
      "name": "python"
    }
  },
  "cells": [
    {
      "cell_type": "markdown",
      "metadata": {
        "id": "view-in-github",
        "colab_type": "text"
      },
      "source": [
        "<a href=\"https://colab.research.google.com/github/aswinaus/RAG_Multimodal/blob/main/Image_to_Text.ipynb\" target=\"_parent\"><img src=\"https://colab.research.google.com/assets/colab-badge.svg\" alt=\"Open In Colab\"/></a>"
      ]
    },
    {
      "cell_type": "code",
      "execution_count": null,
      "metadata": {
        "id": "XNBOmBOzIkqs"
      },
      "outputs": [],
      "source": [
        "!pip install PyMuPDF pytesseract Pillow --quiet"
      ]
    },
    {
      "cell_type": "code",
      "source": [
        "from google.colab import drive\n",
        "drive.mount('/content/drive')\n",
        "# Download Data\n",
        "data_dir = '/content/drive/MyDrive' # Input a data dir path from your mounted Google Drive\n",
        "folder_path = f\"{data_dir}/RAG/data/Form_Data/\"\n",
        "file_name = \"12559_Aswin_Bhaskaran.pdf\""
      ],
      "metadata": {
        "id": "bIQ-MoYlJFOD"
      },
      "execution_count": null,
      "outputs": []
    },
    {
      "cell_type": "code",
      "source": [
        "import pytesseract\n",
        "\n",
        "print(pytesseract)"
      ],
      "metadata": {
        "id": "KbGrFlqAM5hg"
      },
      "execution_count": null,
      "outputs": []
    },
    {
      "cell_type": "code",
      "source": [
        "pytesseract.pytesseract.tesseract_cmd = r'C:\\Program Files\\Tesseract-OCR\\tesseract.exe'\n",
        "\n",
        "import fitz  # PyMuPDF\n",
        "from PIL import Image\n",
        "import pytesseract\n",
        "\n",
        "# Define the path to the PDF file\n",
        "pdf_path = folder_path+file_name\n",
        "\n",
        "# Open the PDF file\n",
        "pdf_document = fitz.open(pdf_path)\n",
        "\n",
        "# Iterate through each page\n",
        "for page_num in range(pdf_document.page_count):\n",
        "    page = pdf_document.load_page(page_num)\n",
        "    pix = page.get_pixmap()\n",
        "    img = Image.frombytes(\"RGB\", [pix.width, pix.height], pix.samples)\n",
        "\n",
        "    # Perform OCR on the image\n",
        "    text = pytesseract.image_to_string(img)\n",
        "\n",
        "    # Print the extracted text\n",
        "    print(f\"Page {page_num + 1}:\\n{text}\\n\")\n",
        "\n",
        "# Close the PDF document\n",
        "pdf_document.close()"
      ],
      "metadata": {
        "id": "uP_j-3BvI_pR"
      },
      "execution_count": null,
      "outputs": []
    }
  ]
}